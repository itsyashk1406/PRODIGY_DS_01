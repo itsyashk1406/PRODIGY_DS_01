{
 "cells": [
  {
   "cell_type": "code",
   "execution_count": 3,
   "id": "d1319362",
   "metadata": {},
   "outputs": [],
   "source": [
    "import pandas as pd\n",
    "import seaborn as sns\n",
    "import matplotlib.pyplot as plt\n",
    "%matplotlib inline"
   ]
  },
  {
   "cell_type": "code",
   "execution_count": 8,
   "id": "b9c994c7",
   "metadata": {},
   "outputs": [],
   "source": [
    "df=pd.read_html(\"https://en.wikipedia.org/wiki/Demographics_of_India\")[8]"
   ]
  },
  {
   "cell_type": "code",
   "execution_count": 14,
   "id": "6a475221",
   "metadata": {},
   "outputs": [
    {
     "data": {
      "text/html": [
       "<div>\n",
       "<style scoped>\n",
       "    .dataframe tbody tr th:only-of-type {\n",
       "        vertical-align: middle;\n",
       "    }\n",
       "\n",
       "    .dataframe tbody tr th {\n",
       "        vertical-align: top;\n",
       "    }\n",
       "\n",
       "    .dataframe thead th {\n",
       "        text-align: right;\n",
       "    }\n",
       "</style>\n",
       "<table border=\"1\" class=\"dataframe\">\n",
       "  <thead>\n",
       "    <tr style=\"text-align: right;\">\n",
       "      <th></th>\n",
       "      <th>Rank</th>\n",
       "      <th>State/UT</th>\n",
       "      <th>Population[59]</th>\n",
       "      <th>Percent (%)</th>\n",
       "      <th>Male</th>\n",
       "      <th>Female</th>\n",
       "      <th>Difference between male and female</th>\n",
       "      <th>Sex ratio</th>\n",
       "      <th>Rural[60]</th>\n",
       "      <th>Urban[60]</th>\n",
       "      <th>Area[61] (km2)</th>\n",
       "      <th>Density (per km2)</th>\n",
       "    </tr>\n",
       "  </thead>\n",
       "  <tbody>\n",
       "    <tr>\n",
       "      <th>32</th>\n",
       "      <td>33</td>\n",
       "      <td>Andaman and Nicobar Islands (UT)</td>\n",
       "      <td>380581</td>\n",
       "      <td>0.03</td>\n",
       "      <td>202871</td>\n",
       "      <td>177710</td>\n",
       "      <td>25161</td>\n",
       "      <td>876</td>\n",
       "      <td>244411</td>\n",
       "      <td>135533</td>\n",
       "      <td>8249</td>\n",
       "      <td>46</td>\n",
       "    </tr>\n",
       "    <tr>\n",
       "      <th>33</th>\n",
       "      <td>34</td>\n",
       "      <td>Dadra and Nagar Haveli (UT)</td>\n",
       "      <td>343709</td>\n",
       "      <td>0.03</td>\n",
       "      <td>193760</td>\n",
       "      <td>149949</td>\n",
       "      <td>43811</td>\n",
       "      <td>774</td>\n",
       "      <td>183024</td>\n",
       "      <td>159829</td>\n",
       "      <td>491</td>\n",
       "      <td>698</td>\n",
       "    </tr>\n",
       "    <tr>\n",
       "      <th>34</th>\n",
       "      <td>35</td>\n",
       "      <td>Daman and Diu (UT)</td>\n",
       "      <td>243247</td>\n",
       "      <td>0.02</td>\n",
       "      <td>150301</td>\n",
       "      <td>92946</td>\n",
       "      <td>57355</td>\n",
       "      <td>618</td>\n",
       "      <td>60331</td>\n",
       "      <td>182580</td>\n",
       "      <td>112</td>\n",
       "      <td>2169</td>\n",
       "    </tr>\n",
       "    <tr>\n",
       "      <th>35</th>\n",
       "      <td>36</td>\n",
       "      <td>Lakshadweep (UT)</td>\n",
       "      <td>64473</td>\n",
       "      <td>0.01</td>\n",
       "      <td>33123</td>\n",
       "      <td>31350</td>\n",
       "      <td>1773</td>\n",
       "      <td>946</td>\n",
       "      <td>14121</td>\n",
       "      <td>50308</td>\n",
       "      <td>32</td>\n",
       "      <td>2013</td>\n",
       "    </tr>\n",
       "    <tr>\n",
       "      <th>36</th>\n",
       "      <td>–</td>\n",
       "      <td>Total (India)</td>\n",
       "      <td>1210854977</td>\n",
       "      <td>100.00</td>\n",
       "      <td>623724248</td>\n",
       "      <td>586469174</td>\n",
       "      <td>35585741</td>\n",
       "      <td>943</td>\n",
       "      <td>833087662</td>\n",
       "      <td>377105760</td>\n",
       "      <td>3287240</td>\n",
       "      <td>382</td>\n",
       "    </tr>\n",
       "  </tbody>\n",
       "</table>\n",
       "</div>"
      ],
      "text/plain": [
       "   Rank                          State/UT  Population[59]  Percent (%)  \\\n",
       "32   33  Andaman and Nicobar Islands (UT)          380581         0.03   \n",
       "33   34       Dadra and Nagar Haveli (UT)          343709         0.03   \n",
       "34   35                Daman and Diu (UT)          243247         0.02   \n",
       "35   36                  Lakshadweep (UT)           64473         0.01   \n",
       "36    –                     Total (India)      1210854977       100.00   \n",
       "\n",
       "         Male     Female Difference between male and female  Sex ratio  \\\n",
       "32     202871     177710                              25161        876   \n",
       "33     193760     149949                              43811        774   \n",
       "34     150301      92946                              57355        618   \n",
       "35      33123      31350                               1773        946   \n",
       "36  623724248  586469174                           35585741        943   \n",
       "\n",
       "    Rural[60]  Urban[60]  Area[61] (km2)  Density (per km2)  \n",
       "32     244411     135533            8249                 46  \n",
       "33     183024     159829             491                698  \n",
       "34      60331     182580             112               2169  \n",
       "35      14121      50308              32               2013  \n",
       "36  833087662  377105760         3287240                382  "
      ]
     },
     "execution_count": 14,
     "metadata": {},
     "output_type": "execute_result"
    }
   ],
   "source": [
    "df.tail()"
   ]
  },
  {
   "cell_type": "code",
   "execution_count": 21,
   "id": "43e992b1",
   "metadata": {},
   "outputs": [],
   "source": [
    "df.drop(36,inplace=True)"
   ]
  },
  {
   "cell_type": "code",
   "execution_count": 29,
   "id": "9eb69673",
   "metadata": {},
   "outputs": [
    {
     "data": {
      "image/png": "[encoded data removed]",
      "text/plain": [
       "<Figure size 1000x600 with 1 Axes>"
      ]
     },
     "metadata": {},
     "output_type": "display_data"
    }
   ],
   "source": [
    "plt.style.use(\"ggplot\")\n",
    "df[[\"Male\" ,\"Female\"]  ].sum().plot(kind=\"bar\",figsize=(10,6))\n",
    "plt.title(\"Count of Male And Female Population accord. India Census 2011\");"
   ]
  },
  {
   "cell_type": "code",
   "execution_count": 43,
   "id": "3b2800e8",
   "metadata": {},
   "outputs": [],
   "source": [
    "df1=pd.read_html(\"https://en.wikipedia.org/wiki/Demographics_of_India\")[26]"
   ]
  },
  {
   "cell_type": "code",
   "execution_count": 86,
   "id": "ce7bda4c",
   "metadata": {},
   "outputs": [],
   "source": [
    "df1.drop(df1.index[21:],inplace=True)\n",
    "df1.Total=df1.Total.astype(int)"
   ]
  },
  {
   "cell_type": "code",
   "execution_count": 96,
   "id": "af2c84af",
   "metadata": {},
   "outputs": [
    {
     "data": {
      "text/html": [
       "<div>\n",
       "<style scoped>\n",
       "    .dataframe tbody tr th:only-of-type {\n",
       "        vertical-align: middle;\n",
       "    }\n",
       "\n",
       "    .dataframe tbody tr th {\n",
       "        vertical-align: top;\n",
       "    }\n",
       "\n",
       "    .dataframe thead th {\n",
       "        text-align: right;\n",
       "    }\n",
       "</style>\n",
       "<table border=\"1\" class=\"dataframe\">\n",
       "  <thead>\n",
       "    <tr style=\"text-align: right;\">\n",
       "      <th></th>\n",
       "      <th>Age group</th>\n",
       "      <th>Male</th>\n",
       "      <th>Female</th>\n",
       "      <th>Total</th>\n",
       "      <th>Percentage (%)</th>\n",
       "      <th>Cumulative Percentage</th>\n",
       "    </tr>\n",
       "  </thead>\n",
       "  <tbody>\n",
       "    <tr>\n",
       "      <th>0</th>\n",
       "      <td>0–4</td>\n",
       "      <td>58632074</td>\n",
       "      <td>54174704</td>\n",
       "      <td>112806778</td>\n",
       "      <td>9.32</td>\n",
       "      <td>9.32</td>\n",
       "    </tr>\n",
       "    <tr>\n",
       "      <th>1</th>\n",
       "      <td>5–9</td>\n",
       "      <td>66300466</td>\n",
       "      <td>60627660</td>\n",
       "      <td>126928126</td>\n",
       "      <td>10.48</td>\n",
       "      <td>19.80</td>\n",
       "    </tr>\n",
       "    <tr>\n",
       "      <th>2</th>\n",
       "      <td>10–14</td>\n",
       "      <td>69418835</td>\n",
       "      <td>63290377</td>\n",
       "      <td>132709212</td>\n",
       "      <td>10.96</td>\n",
       "      <td>30.76</td>\n",
       "    </tr>\n",
       "    <tr>\n",
       "      <th>3</th>\n",
       "      <td>15–19</td>\n",
       "      <td>63982396</td>\n",
       "      <td>56544053</td>\n",
       "      <td>120526449</td>\n",
       "      <td>9.95</td>\n",
       "      <td>40.71</td>\n",
       "    </tr>\n",
       "    <tr>\n",
       "      <th>4</th>\n",
       "      <td>20–24</td>\n",
       "      <td>57584693</td>\n",
       "      <td>53839529</td>\n",
       "      <td>111424222</td>\n",
       "      <td>9.20</td>\n",
       "      <td>49.91</td>\n",
       "    </tr>\n",
       "  </tbody>\n",
       "</table>\n",
       "</div>"
      ],
      "text/plain": [
       "  Age group      Male    Female      Total Percentage (%)  \\\n",
       "0       0–4  58632074  54174704  112806778           9.32   \n",
       "1       5–9  66300466  60627660  126928126          10.48   \n",
       "2     10–14  69418835  63290377  132709212          10.96   \n",
       "3     15–19  63982396  56544053  120526449           9.95   \n",
       "4     20–24  57584693  53839529  111424222           9.20   \n",
       "\n",
       "   Cumulative Percentage  \n",
       "0                   9.32  \n",
       "1                  19.80  \n",
       "2                  30.76  \n",
       "3                  40.71  \n",
       "4                  49.91  "
      ]
     },
     "execution_count": 96,
     "metadata": {},
     "output_type": "execute_result"
    }
   ],
   "source": [
    "df1.head()"
   ]
  },
  {
   "cell_type": "code",
   "execution_count": 120,
   "id": "129ea498",
   "metadata": {},
   "outputs": [
    {
     "data": {
      "image/png": "[encoded data removed]",
      "text/plain": [
       "<Figure size 1000x600 with 1 Axes>"
      ]
     },
     "metadata": {},
     "output_type": "display_data"
    }
   ],
   "source": [
    "fig,ax=plt.subplots(figsize=(10,6))\n",
    "plt.tight_layout()\n",
    "g=sns.barplot(data=df1,x=\"Age group\",y=\"Total\",palette=\"Paired\")\n",
    "ax.set_xticklabels(ax.get_xticklabels(),rotation=40);\n",
    "g.set_title(\"Age Group vs Population\");"
   ]
  }
 ],
 "metadata": {
  "kernelspec": {
   "display_name": "Python 3 (ipykernel)",
   "language": "python",
   "name": "python3"
  },
  "language_info": {
   "codemirror_mode": {
    "name": "ipython",
    "version": 3
   },
   "file_extension": ".py",
   "mimetype": "text/x-python",
   "name": "python",
   "nbconvert_exporter": "python",
   "pygments_lexer": "ipython3",
   "version": "3.11.5"
  }
 },
 "nbformat": 4,
 "nbformat_minor": 5
}
